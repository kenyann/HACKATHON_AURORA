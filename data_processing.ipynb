{
 "cells": [
  {
   "cell_type": "code",
   "execution_count": 13,
   "metadata": {},
   "outputs": [],
   "source": [
    "import pandas as pd\n",
    "import urllib3"
   ]
  },
  {
   "cell_type": "code",
   "execution_count": 11,
   "metadata": {},
   "outputs": [
    {
     "data": {
      "text/plain": [
       "83"
      ]
     },
     "execution_count": 11,
     "metadata": {},
     "output_type": "execute_result"
    }
   ],
   "source": [
    "df = pd.read_excel('Online Round Submisson.xlsx')['Proposal']\n",
    "len(df)"
   ]
  },
  {
   "cell_type": "code",
   "execution_count": 14,
   "metadata": {},
   "outputs": [
    {
     "name": "stdout",
     "output_type": "stream",
     "text": [
      "Downloaded proposals/file_0.pdf\n",
      "Downloaded proposals/file_1.pdf\n",
      "Downloaded proposals/file_2.pdf\n",
      "Downloaded proposals/file_3.pdf\n",
      "Downloaded proposals/file_4.pdf\n",
      "Downloaded proposals/file_5.pdf\n",
      "Downloaded proposals/file_6.pdf\n",
      "Downloaded proposals/file_7.pdf\n",
      "Downloaded proposals/file_8.pdf\n",
      "Downloaded proposals/file_9.pdf\n",
      "Downloaded proposals/file_10.pdf\n",
      "Downloaded proposals/file_11.pdf\n",
      "Downloaded proposals/file_12.pdf\n",
      "Downloaded proposals/file_13.pdf\n",
      "Downloaded proposals/file_14.pdf\n",
      "Downloaded proposals/file_15.pdf\n",
      "Downloaded proposals/file_16.pdf\n",
      "Downloaded proposals/file_17.pdf\n",
      "Downloaded proposals/file_18.pdf\n",
      "Downloaded proposals/file_19.pdf\n",
      "Downloaded proposals/file_20.pdf\n",
      "Downloaded proposals/file_21.pdf\n",
      "Downloaded proposals/file_22.pdf\n",
      "Downloaded proposals/file_23.pdf\n",
      "Downloaded proposals/file_24.pdf\n",
      "Downloaded proposals/file_25.pdf\n",
      "Downloaded proposals/file_26.pdf\n",
      "Downloaded proposals/file_27.pdf\n",
      "Downloaded proposals/file_28.pdf\n",
      "Downloaded proposals/file_29.pdf\n",
      "Downloaded proposals/file_30.pdf\n",
      "Downloaded proposals/file_31.pdf\n",
      "Downloaded proposals/file_32.pdf\n",
      "Downloaded proposals/file_33.pdf\n",
      "Downloaded proposals/file_34.pdf\n",
      "Downloaded proposals/file_35.pdf\n",
      "Downloaded proposals/file_36.pdf\n",
      "Downloaded proposals/file_37.pdf\n",
      "Downloaded proposals/file_38.pdf\n",
      "Downloaded proposals/file_39.pdf\n",
      "Downloaded proposals/file_40.pdf\n",
      "Downloaded proposals/file_41.pdf\n",
      "Downloaded proposals/file_42.pdf\n",
      "Downloaded proposals/file_43.pdf\n",
      "Downloaded proposals/file_44.pdf\n",
      "Downloaded proposals/file_45.pdf\n",
      "Downloaded proposals/file_46.pdf\n",
      "Downloaded proposals/file_47.pdf\n",
      "Downloaded proposals/file_48.pdf\n",
      "Downloaded proposals/file_49.pdf\n",
      "Downloaded proposals/file_50.pdf\n",
      "Downloaded proposals/file_51.pdf\n",
      "Downloaded proposals/file_52.pdf\n",
      "Downloaded proposals/file_53.pdf\n",
      "Downloaded proposals/file_54.pdf\n",
      "Downloaded proposals/file_55.pdf\n",
      "Downloaded proposals/file_56.pdf\n",
      "Downloaded proposals/file_57.pdf\n",
      "Downloaded proposals/file_58.pdf\n",
      "Downloaded proposals/file_59.pdf\n",
      "Downloaded proposals/file_60.pdf\n",
      "Downloaded proposals/file_61.pdf\n",
      "Downloaded proposals/file_62.pdf\n",
      "Downloaded proposals/file_63.pdf\n",
      "Downloaded proposals/file_64.pdf\n",
      "Downloaded proposals/file_65.pdf\n",
      "Downloaded proposals/file_66.pdf\n",
      "Downloaded proposals/file_67.pdf\n",
      "Downloaded proposals/file_68.pdf\n",
      "Downloaded proposals/file_69.pdf\n",
      "Downloaded proposals/file_70.pdf\n",
      "Downloaded proposals/file_71.pdf\n",
      "Downloaded proposals/file_72.pdf\n",
      "Downloaded proposals/file_73.pdf\n",
      "Downloaded proposals/file_74.pdf\n",
      "Downloaded proposals/file_75.pdf\n",
      "Downloaded proposals/file_76.pdf\n",
      "Downloaded proposals/file_77.pdf\n",
      "Downloaded proposals/file_78.pdf\n",
      "Downloaded proposals/file_79.pdf\n",
      "Downloaded proposals/file_80.pdf\n",
      "Downloaded proposals/file_81.pdf\n",
      "Downloaded proposals/file_82.pdf\n"
     ]
    }
   ],
   "source": [
    "import os\n",
    "\n",
    "http = urllib3.PoolManager()\n",
    "\n",
    "for idx, url in df.items():\n",
    "    file_name = os.path.join('proposals', f'file_{idx}.pdf')\n",
    "    with http.request('GET', url, preload_content=False) as resp, open(file_name, 'wb') as out_file:\n",
    "        out_file.write(resp.read())\n",
    "    print(f'Downloaded {file_name}')"
   ]
  },
  {
   "cell_type": "code",
   "execution_count": null,
   "metadata": {},
   "outputs": [],
   "source": []
  }
 ],
 "metadata": {
  "kernelspec": {
   "display_name": "hackathon",
   "language": "python",
   "name": "python3"
  },
  "language_info": {
   "codemirror_mode": {
    "name": "ipython",
    "version": 3
   },
   "file_extension": ".py",
   "mimetype": "text/x-python",
   "name": "python",
   "nbconvert_exporter": "python",
   "pygments_lexer": "ipython3",
   "version": "3.10.12"
  }
 },
 "nbformat": 4,
 "nbformat_minor": 2
}
