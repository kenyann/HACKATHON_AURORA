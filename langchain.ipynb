{
 "cells": [
  {
   "cell_type": "code",
   "execution_count": 2,
   "metadata": {},
   "outputs": [
    {
     "name": "stdout",
     "output_type": "stream",
     "text": [
      "16\n"
     ]
    }
   ],
   "source": [
    "from langchain_community.document_loaders import PyPDFLoader\n",
    "\n",
    "file_path = \"proposals/file_1.pdf\"\n",
    "loader = PyPDFLoader(file_path)\n",
    "\n",
    "docs = loader.load()\n",
    "\n",
    "print(len(docs))"
   ]
  },
  {
   "cell_type": "code",
   "execution_count": 22,
   "metadata": {},
   "outputs": [],
   "source": [
    "import os"
   ]
  },
  {
   "cell_type": "code",
   "execution_count": 37,
   "metadata": {},
   "outputs": [],
   "source": [
    "from langchain_text_splitters import RecursiveCharacterTextSplitter\n",
    "from langchain.schema.document import Document\n",
    "\n",
    "def split_documents(documents: list[Document]):\n",
    "    text_splitter = RecursiveCharacterTextSplitter(\n",
    "        chunk_size=1000,\n",
    "        chunk_overlap=100,\n",
    "        length_function=len,\n",
    "        is_separator_regex=False\n",
    "    )\n",
    "    return text_splitter.split_documents(documents)    \n"
   ]
  },
  {
   "cell_type": "code",
   "execution_count": null,
   "metadata": {},
   "outputs": [
    {
     "name": "stderr",
     "output_type": "stream",
     "text": [
      "Insert of existing embedding ID: proposals/file_6.pdf\n",
      "Add of existing embedding ID: proposals/file_6.pdf\n",
      "Insert of existing embedding ID: proposals/file_6.pdf\n",
      "Add of existing embedding ID: proposals/file_6.pdf\n",
      "Insert of existing embedding ID: proposals/file_6.pdf\n",
      "Add of existing embedding ID: proposals/file_6.pdf\n",
      "Insert of existing embedding ID: proposals/file_6.pdf\n",
      "Add of existing embedding ID: proposals/file_6.pdf\n",
      "Insert of existing embedding ID: proposals/file_6.pdf\n",
      "Add of existing embedding ID: proposals/file_6.pdf\n",
      "Insert of existing embedding ID: proposals/file_6.pdf\n",
      "Add of existing embedding ID: proposals/file_6.pdf\n",
      "Insert of existing embedding ID: proposals/file_6.pdf\n",
      "Add of existing embedding ID: proposals/file_6.pdf\n",
      "Insert of existing embedding ID: proposals/file_6.pdf\n",
      "Add of existing embedding ID: proposals/file_6.pdf\n",
      "Insert of existing embedding ID: proposals/file_6.pdf\n",
      "Add of existing embedding ID: proposals/file_6.pdf\n",
      "Insert of existing embedding ID: proposals/file_6.pdf\n",
      "Add of existing embedding ID: proposals/file_6.pdf\n",
      "Insert of existing embedding ID: proposals/file_6.pdf\n",
      "Add of existing embedding ID: proposals/file_6.pdf\n",
      "Insert of existing embedding ID: proposals/file_6.pdf\n",
      "Add of existing embedding ID: proposals/file_6.pdf\n",
      "Insert of existing embedding ID: proposals/file_6.pdf\n",
      "Add of existing embedding ID: proposals/file_6.pdf\n",
      "Insert of existing embedding ID: proposals/file_6.pdf\n",
      "Add of existing embedding ID: proposals/file_6.pdf\n",
      "Insert of existing embedding ID: proposals/file_6.pdf\n",
      "Add of existing embedding ID: proposals/file_6.pdf\n",
      "Insert of existing embedding ID: proposals/file_6.pdf\n",
      "Add of existing embedding ID: proposals/file_6.pdf\n",
      "Insert of existing embedding ID: proposals/file_6.pdf\n",
      "Add of existing embedding ID: proposals/file_6.pdf\n",
      "Insert of existing embedding ID: proposals/file_6.pdf\n",
      "Add of existing embedding ID: proposals/file_6.pdf\n",
      "Insert of existing embedding ID: proposals/file_6.pdf\n",
      "Add of existing embedding ID: proposals/file_6.pdf\n",
      "Insert of existing embedding ID: proposals/file_6.pdf\n",
      "Add of existing embedding ID: proposals/file_6.pdf\n",
      "Insert of existing embedding ID: proposals/file_6.pdf\n",
      "Add of existing embedding ID: proposals/file_6.pdf\n",
      "Insert of existing embedding ID: proposals/file_6.pdf\n",
      "Add of existing embedding ID: proposals/file_6.pdf\n",
      "Insert of existing embedding ID: proposals/file_6.pdf\n",
      "Add of existing embedding ID: proposals/file_6.pdf\n",
      "Insert of existing embedding ID: proposals/file_6.pdf\n",
      "Add of existing embedding ID: proposals/file_6.pdf\n",
      "Insert of existing embedding ID: proposals/file_6.pdf\n",
      "Add of existing embedding ID: proposals/file_6.pdf\n",
      "Insert of existing embedding ID: proposals/file_21.pdf\n",
      "Add of existing embedding ID: proposals/file_21.pdf\n",
      "Insert of existing embedding ID: proposals/file_21.pdf\n",
      "Add of existing embedding ID: proposals/file_21.pdf\n",
      "Insert of existing embedding ID: proposals/file_21.pdf\n",
      "Add of existing embedding ID: proposals/file_21.pdf\n",
      "Insert of existing embedding ID: proposals/file_21.pdf\n",
      "Add of existing embedding ID: proposals/file_21.pdf\n",
      "Insert of existing embedding ID: proposals/file_21.pdf\n",
      "Add of existing embedding ID: proposals/file_21.pdf\n",
      "Insert of existing embedding ID: proposals/file_21.pdf\n",
      "Add of existing embedding ID: proposals/file_21.pdf\n",
      "Insert of existing embedding ID: proposals/file_21.pdf\n",
      "Add of existing embedding ID: proposals/file_21.pdf\n",
      "Insert of existing embedding ID: proposals/file_21.pdf\n",
      "Add of existing embedding ID: proposals/file_21.pdf\n",
      "Insert of existing embedding ID: proposals/file_21.pdf\n",
      "Add of existing embedding ID: proposals/file_21.pdf\n",
      "Insert of existing embedding ID: proposals/file_21.pdf\n",
      "Add of existing embedding ID: proposals/file_21.pdf\n",
      "Insert of existing embedding ID: proposals/file_21.pdf\n",
      "Add of existing embedding ID: proposals/file_21.pdf\n",
      "Insert of existing embedding ID: proposals/file_21.pdf\n",
      "Add of existing embedding ID: proposals/file_21.pdf\n",
      "Insert of existing embedding ID: proposals/file_21.pdf\n",
      "Add of existing embedding ID: proposals/file_21.pdf\n",
      "Insert of existing embedding ID: proposals/file_21.pdf\n",
      "Add of existing embedding ID: proposals/file_21.pdf\n",
      "Insert of existing embedding ID: proposals/file_21.pdf\n",
      "Add of existing embedding ID: proposals/file_21.pdf\n",
      "Insert of existing embedding ID: proposals/file_21.pdf\n",
      "Add of existing embedding ID: proposals/file_21.pdf\n",
      "Insert of existing embedding ID: proposals/file_21.pdf\n",
      "Add of existing embedding ID: proposals/file_21.pdf\n",
      "Insert of existing embedding ID: proposals/file_21.pdf\n",
      "Add of existing embedding ID: proposals/file_21.pdf\n",
      "Insert of existing embedding ID: proposals/file_21.pdf\n",
      "Add of existing embedding ID: proposals/file_21.pdf\n",
      "Insert of existing embedding ID: proposals/file_21.pdf\n",
      "Add of existing embedding ID: proposals/file_21.pdf\n",
      "Insert of existing embedding ID: proposals/file_21.pdf\n",
      "Add of existing embedding ID: proposals/file_21.pdf\n",
      "Insert of existing embedding ID: proposals/file_21.pdf\n",
      "Add of existing embedding ID: proposals/file_21.pdf\n",
      "Insert of existing embedding ID: proposals/file_21.pdf\n",
      "Add of existing embedding ID: proposals/file_21.pdf\n",
      "Insert of existing embedding ID: proposals/file_21.pdf\n",
      "Add of existing embedding ID: proposals/file_21.pdf\n",
      "Insert of existing embedding ID: proposals/file_21.pdf\n",
      "Add of existing embedding ID: proposals/file_21.pdf\n",
      "Insert of existing embedding ID: proposals/file_21.pdf\n",
      "Add of existing embedding ID: proposals/file_21.pdf\n",
      "Insert of existing embedding ID: proposals/file_21.pdf\n",
      "Add of existing embedding ID: proposals/file_21.pdf\n"
     ]
    },
    {
     "name": "stdout",
     "output_type": "stream",
     "text": [
      "All PDF files have been embedded and stored in ChromaDB.\n"
     ]
    }
   ],
   "source": [
    "from langchain_community.document_loaders import PyPDFLoader\n",
    "from langchain_openai import OpenAIEmbeddings\n",
    "import os\n",
    "import chromadb\n",
    "\n",
    "# Initialize ChromaDB client\n",
    "client = chromadb.Client()\n",
    "\n",
    "# Create a collection in ChromaDB\n",
    "collection = client.create_collection(\"pdf_embeddings\")\n",
    "\n",
    "# Get the list of PDF files in the proposals folder\n",
    "proposals_folder = \"proposals\"\n",
    "pdf_files = [f for f in os.listdir(proposals_folder) if f.endswith('.pdf')]\n",
    "\n",
    "# Initialize the embeddings model\n",
    "embeddings_model = OpenAIEmbeddings(api_key=os.getenv(\"OPEN_API_KEY\"))\n",
    "\n",
    "# Process each PDF file\n",
    "for pdf_file in pdf_files[:2]:\n",
    "    try:\n",
    "        file_path = os.path.join(proposals_folder, pdf_file)\n",
    "        loader = PyPDFLoader(file_path)\n",
    "        docs = loader.load()\n",
    "        \n",
    "        # Embed the content of each document\n",
    "        for doc in docs:\n",
    "            embedding = embeddings_model.embed_documents([doc.page_content])[0]\n",
    "            \n",
    "            # Store the embedding in ChromaDB\n",
    "            collection.add(doc.metadata['source'], embedding)\n",
    "    except Exception as e:\n",
    "        print(f\"Error processing {pdf_file}: {e}\")\n",
    "\n",
    "print(\"All PDF files have been embedded and stored in ChromaDB.\")"
   ]
  },
  {
   "cell_type": "code",
   "execution_count": 36,
   "metadata": {},
   "outputs": [
    {
     "data": {
      "text/plain": [
       "-0.033174023032188416"
      ]
     },
     "execution_count": 36,
     "metadata": {},
     "output_type": "execute_result"
    }
   ],
   "source": [
    "embedding[0]"
   ]
  },
  {
   "cell_type": "code",
   "execution_count": null,
   "metadata": {},
   "outputs": [],
   "source": [
    "query = \"Why use Yolov8\"\n",
    "docs = db.similarity_search(query)\n",
    "print(docs[0].page_content)\n"
   ]
  },
  {
   "cell_type": "code",
   "execution_count": 33,
   "metadata": {},
   "outputs": [
    {
     "name": "stdout",
     "output_type": "stream",
     "text": [
      "Query \n",
      "--------------\n",
      "Why use Yolov8\n",
      "Result \n",
      "--------------\n",
      "None\n",
      "Vector \n",
      "--------------\n",
      "[-0.03085641  0.00316999  0.00816987 ... -0.01453027 -0.00579238\n",
      " -0.00167938]\n",
      "\n",
      "\n",
      "Complete Response \n",
      "-------------------------\n",
      "{'ids': [['proposals/file_21.pdf']], 'embeddings': [array([[-0.03085641,  0.00316999,  0.00816987, ..., -0.01453027,\n",
      "        -0.00579238, -0.00167938]])], 'documents': [[None]], 'uris': None, 'data': None, 'metadatas': [[None]], 'distances': [[0.5352519750595093]], 'included': [<IncludeEnum.embeddings: 'embeddings'>, <IncludeEnum.distances: 'distances'>, <IncludeEnum.documents: 'documents'>, <IncludeEnum.metadatas: 'metadatas'>]}\n"
     ]
    }
   ],
   "source": [
    "# Define the query\n",
    "query = \"Why use Yolov8\"\n",
    "def searchDataByVector(query: str):\n",
    "    try:\n",
    "        query_vector = embeddings_model.embed_query(query)\n",
    "        res = collection.query(\n",
    "            query_embeddings=[query_vector],\n",
    "            n_results=1,\n",
    "            include=['distances','embeddings', 'documents', 'metadatas'],\n",
    "        )\n",
    "        print(\"Query\", \"\\n--------------\")\n",
    "        print(query)\n",
    "        print(\"Result\", \"\\n--------------\")\n",
    "        print(res['documents'][0][0])\n",
    "        print(\"Vector\", \"\\n--------------\")\n",
    "        print(res['embeddings'][0][0])\n",
    "        print(\"\")\n",
    "        print(\"\")\n",
    "        print(\"Complete Response\",\"\\n-------------------------\")\n",
    "        print(res)\n",
    "\n",
    "    except Exception as e:\n",
    "        print(\"Vector search failed : \", e)\n",
    "\n",
    "searchDataByVector(query)"
   ]
  },
  {
   "cell_type": "code",
   "execution_count": null,
   "metadata": {},
   "outputs": [],
   "source": []
  },
  {
   "cell_type": "code",
   "execution_count": null,
   "metadata": {},
   "outputs": [],
   "source": []
  }
 ],
 "metadata": {
  "kernelspec": {
   "display_name": "hackathon",
   "language": "python",
   "name": "python3"
  },
  "language_info": {
   "codemirror_mode": {
    "name": "ipython",
    "version": 3
   },
   "file_extension": ".py",
   "mimetype": "text/x-python",
   "name": "python",
   "nbconvert_exporter": "python",
   "pygments_lexer": "ipython3",
   "version": "3.10.12"
  }
 },
 "nbformat": 4,
 "nbformat_minor": 2
}
